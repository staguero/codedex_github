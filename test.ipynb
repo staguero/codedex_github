{
 "cells": [
  {
   "cell_type": "code",
   "execution_count": 1,
   "metadata": {},
   "outputs": [],
   "source": [
    "#! C:/Users/Santiago/Documents/odoo17/venv/Scripts/python.exe"
   ]
  },
  {
   "cell_type": "code",
   "execution_count": 9,
   "metadata": {},
   "outputs": [
    {
     "ename": "ImportError",
     "evalue": "attempted relative import with no known parent package",
     "output_type": "error",
     "traceback": [
      "\u001b[1;31m---------------------------------------------------------------------------\u001b[0m",
      "\u001b[1;31mImportError\u001b[0m                               Traceback (most recent call last)",
      "Cell \u001b[1;32mIn[9], line 4\u001b[0m\n\u001b[0;32m      2\u001b[0m \u001b[38;5;28;01mimport\u001b[39;00m \u001b[38;5;21;01msys\u001b[39;00m\n\u001b[0;32m      3\u001b[0m sys\u001b[38;5;241m.\u001b[39mpath\u001b[38;5;241m.\u001b[39mappend(\u001b[38;5;124m'\u001b[39m\u001b[38;5;124mC:/Users/Santiago/Documents/odoo17/odoo/odoo\u001b[39m\u001b[38;5;124m'\u001b[39m)\n\u001b[1;32m----> 4\u001b[0m \u001b[38;5;28;01mimport\u001b[39;00m \u001b[38;5;21;01mfields\u001b[39;00m\n\u001b[0;32m      6\u001b[0m \u001b[38;5;66;03m# Get the current date using Odoo's fields.Date.today()\u001b[39;00m\n\u001b[0;32m      7\u001b[0m odoo_date \u001b[38;5;241m=\u001b[39m fields\u001b[38;5;241m.\u001b[39mDate\u001b[38;5;241m.\u001b[39mtoday()\n",
      "File \u001b[1;32mC:\\Users/Santiago/Documents/odoo17/odoo/odoo\\fields.py:30\u001b[0m\n\u001b[0;32m     27\u001b[0m \u001b[38;5;28;01mfrom\u001b[39;00m \u001b[38;5;21;01mdifflib\u001b[39;00m \u001b[38;5;28;01mimport\u001b[39;00m get_close_matches, unified_diff\n\u001b[0;32m     28\u001b[0m \u001b[38;5;28;01mfrom\u001b[39;00m \u001b[38;5;21;01mhashlib\u001b[39;00m \u001b[38;5;28;01mimport\u001b[39;00m sha256\n\u001b[1;32m---> 30\u001b[0m \u001b[38;5;28;01mfrom\u001b[39;00m \u001b[38;5;21;01m.\u001b[39;00m\u001b[38;5;21;01mmodels\u001b[39;00m \u001b[38;5;28;01mimport\u001b[39;00m check_property_field_value_name\n\u001b[0;32m     31\u001b[0m \u001b[38;5;28;01mfrom\u001b[39;00m \u001b[38;5;21;01m.\u001b[39;00m\u001b[38;5;21;01mnetsvc\u001b[39;00m \u001b[38;5;28;01mimport\u001b[39;00m ColoredFormatter, GREEN, RED, DEFAULT, COLOR_PATTERN\n\u001b[0;32m     32\u001b[0m \u001b[38;5;28;01mfrom\u001b[39;00m \u001b[38;5;21;01m.\u001b[39;00m\u001b[38;5;21;01mtools\u001b[39;00m \u001b[38;5;28;01mimport\u001b[39;00m (\n\u001b[0;32m     33\u001b[0m     float_repr, float_round, float_compare, float_is_zero, human_size,\n\u001b[0;32m     34\u001b[0m     pg_varchar, ustr, OrderedSet, pycompat, sql, SQL, date_utils, unique,\n\u001b[0;32m     35\u001b[0m     image_process, merge_sequences, SQL_ORDER_BY_TYPE, is_list_of, has_list_types,\n\u001b[0;32m     36\u001b[0m     html_normalize, html_sanitize,\n\u001b[0;32m     37\u001b[0m )\n",
      "\u001b[1;31mImportError\u001b[0m: attempted relative import with no known parent package"
     ]
    }
   ],
   "source": [
    "from datetime import datetime, timedelta\n",
    "import sys\n",
    "sys.path.append('C:/Users/Santiago/Documents/odoo17/odoo/odoo')\n",
    "import fields\n",
    "\n",
    "# Get the current date using Odoo's fields.Date.today()\n",
    "odoo_date = fields.Date.today()\n",
    "\n",
    "# Get the current date using Python's datetime.today()\n",
    "python_date = datetime.today().date()\n",
    "\n",
    "# Calculate the date 50 days from today using Odoo's fields.Date.today()\n",
    "date_50_days_from_odoo = odoo_date + timedelta(days=50)\n",
    "\n",
    "# Calculate the date 50 days from today using Python's datetime.today()\n",
    "date_50_days_from_python = python_date + timedelta(days=50)\n",
    "\n",
    "# Sum up the dates obtained from different libraries\n",
    "sum_of_dates = date_50_days_from_odoo + date_50_days_from_python\n",
    "\n",
    "# Now you can use sum_of_dates as needed in your code"
   ]
  },
  {
   "cell_type": "code",
   "execution_count": null,
   "metadata": {},
   "outputs": [],
   "source": []
  }
 ],
 "metadata": {
  "kernelspec": {
   "display_name": "venv",
   "language": "python",
   "name": "python3"
  },
  "language_info": {
   "codemirror_mode": {
    "name": "ipython",
    "version": 3
   },
   "file_extension": ".py",
   "mimetype": "text/x-python",
   "name": "python",
   "nbconvert_exporter": "python",
   "pygments_lexer": "ipython3",
   "version": "3.11.0"
  }
 },
 "nbformat": 4,
 "nbformat_minor": 2
}
